{
 "cells": [
  {
   "cell_type": "markdown",
   "id": "a046cad7-92df-4391-9bcb-e0585ac2df43",
   "metadata": {},
   "source": [
    "# Load my libraries"
   ]
  },
  {
   "cell_type": "code",
   "execution_count": 12,
   "id": "fbbc867b-babc-4293-a8df-7b4751477088",
   "metadata": {},
   "outputs": [],
   "source": [
    "# !pip install hdwallet"
   ]
  },
  {
   "cell_type": "code",
   "execution_count": 1,
   "id": "c2adda3e-82ae-46ce-ad5a-f63913f9a6c0",
   "metadata": {},
   "outputs": [],
   "source": [
    "from hdwallet import BIP44HDWallet\n",
    "from hdwallet.derivations import BIP44Derivation\n",
    "from hdwallet.cryptocurrencies import BitcoinTestnet\n",
    "from bit import wif_to_key\n",
    "import bit"
   ]
  },
  {
   "cell_type": "markdown",
   "id": "01b4c4a1-0cfa-4f5c-89fd-bd77667b1d2b",
   "metadata": {},
   "source": [
    "## Menmonic Phrase\n",
    "* Make sure to use dotenv instead to hide your secret phrase\n",
    "* you can also use the Private Key as well `bip44_hdwallet.from_private_key`"
   ]
  },
  {
   "cell_type": "code",
   "execution_count": 2,
   "id": "10fe77b5-09ff-4a58-bda0-08314cab9f3e",
   "metadata": {},
   "outputs": [],
   "source": [
    "mnemonic = \"net iron movie rabbit worth tornado original abstract polar brave violin super\""
   ]
  },
  {
   "cell_type": "markdown",
   "id": "e2d3c998-3ded-4fb1-a884-9d28d29200a3",
   "metadata": {},
   "source": [
    "### Instanciate wallet on BitcoinTestnet"
   ]
  },
  {
   "cell_type": "code",
   "execution_count": 4,
   "id": "dfc9f777-581b-4e70-ac40-d08e48aa41a7",
   "metadata": {},
   "outputs": [],
   "source": [
    "bip44_hdwallet = BIP44HDWallet(cryptocurrency=BitcoinTestnet)"
   ]
  },
  {
   "cell_type": "code",
   "execution_count": 5,
   "id": "6f59af96-6676-4881-ace6-a92a6b75f04b",
   "metadata": {},
   "outputs": [
    {
     "data": {
      "text/plain": [
       "<hdwallet.hdwallet.BIP44HDWallet at 0x7fb53e336ad0>"
      ]
     },
     "execution_count": 5,
     "metadata": {},
     "output_type": "execute_result"
    }
   ],
   "source": [
    "bip44_hdwallet.from_mnemonic(mnemonic=mnemonic, language='english')"
   ]
  },
  {
   "cell_type": "code",
   "execution_count": 9,
   "id": "9701f78d-364f-4571-aa4c-53295cd933c8",
   "metadata": {},
   "outputs": [],
   "source": [
    "myWallets = {}"
   ]
  },
  {
   "cell_type": "code",
   "execution_count": 10,
   "id": "90837dac-9c73-4d8a-a7d0-713f20ff56cc",
   "metadata": {
    "tags": []
   },
   "outputs": [],
   "source": [
    "#bip44_hdwallet.from_mnemonic(mnemonic=mnemonic, language='english')\n",
    "for i in range(20):\n",
    "    derivation = BIP44Derivation(cryptocurrency=BitcoinTestnet,\n",
    "                                account=0,\n",
    "                                change=False,\n",
    "                                address=i)\n",
    "    bip44_hdwallet.from_path(path=derivation)\n",
    "    myWallets[i] = {\n",
    "        'path': bip44_hdwallet.path(),\n",
    "        'address': bip44_hdwallet.address(),\n",
    "        'public_key': bip44_hdwallet.public_key(),\n",
    "        'wif': bip44_hdwallet.wif(),\n",
    "        'private_key': bip44_hdwallet.private_key()\n",
    "    }\n",
    "    bip44_hdwallet.clean_derivation()"
   ]
  },
  {
   "cell_type": "code",
   "execution_count": 15,
   "id": "d286f45e-6fae-4578-bbc8-e97aeaf6932b",
   "metadata": {},
   "outputs": [
    {
     "data": {
      "text/plain": [
       "{'path': \"m/44'/1'/0'/0/0\",\n",
       " 'address': 'mzMiH8CyqjBVjxSuLbs91MroiDwyxZ1DNN',\n",
       " 'public_key': '033dab12d194d21f3c2bca9d994c9d817e5197cf8a98554473931e442baef3ce5f',\n",
       " 'wif': 'cVkZ3aCpuKwinkLQAFD1LxtnjoekHoZXAd5L76vQrGwsDLxmBeqB',\n",
       " 'private_key': 'f3c469ff769f934305f59d45f87fdbb20ef4b49634875d8227e9b42166948260'}"
      ]
     },
     "execution_count": 15,
     "metadata": {},
     "output_type": "execute_result"
    }
   ],
   "source": [
    "myWallets[0]"
   ]
  },
  {
   "cell_type": "markdown",
   "id": "0c4ca9c4-f57e-424f-820c-43abe2957d49",
   "metadata": {},
   "source": [
    "## Using `bit` to get account information from the blockchain"
   ]
  },
  {
   "cell_type": "code",
   "execution_count": 13,
   "id": "62739490-d531-44e2-ae8c-3902cecd5052",
   "metadata": {},
   "outputs": [],
   "source": [
    "key = wif_to_key(myWallets[0]['wif'])"
   ]
  },
  {
   "cell_type": "code",
   "execution_count": 16,
   "id": "38974708-aaf2-4620-9586-0f551c1f8aad",
   "metadata": {},
   "outputs": [
    {
     "data": {
      "text/plain": [
       "'6204430'"
      ]
     },
     "execution_count": 16,
     "metadata": {},
     "output_type": "execute_result"
    }
   ],
   "source": [
    "key.get_balance()"
   ]
  },
  {
   "cell_type": "code",
   "execution_count": 17,
   "id": "ae333691-67e7-4574-8b94-0bfb333fd56a",
   "metadata": {},
   "outputs": [
    {
     "data": {
      "text/plain": [
       "'0.0620443'"
      ]
     },
     "execution_count": 17,
     "metadata": {},
     "output_type": "execute_result"
    }
   ],
   "source": [
    "key.get_balance('btc')"
   ]
  },
  {
   "cell_type": "code",
   "execution_count": 19,
   "id": "0018de88-f309-4258-a58d-82cba78d9172",
   "metadata": {},
   "outputs": [
    {
     "data": {
      "text/plain": [
       "[Unspent(amount=1937396, confirmations=208, script='76a914ceaaf23db9b37aaa026c82d10b819f4da0623c7488ac', txid='73c6d763bab9345fd58c5cd47342a8a1f3d5ae50e2fbbdc0f5a94009463f4160', txindex=1, segwit=False, sequence=4294967295),\n",
       " Unspent(amount=4267034, confirmations=80, script='76a914ceaaf23db9b37aaa026c82d10b819f4da0623c7488ac', txid='56fbfab12d03e236b02ac61760724dce633b1464b71caa7b2404ba03668049b6', txindex=3, segwit=False, sequence=4294967295)]"
      ]
     },
     "execution_count": 19,
     "metadata": {},
     "output_type": "execute_result"
    }
   ],
   "source": [
    "key.get_unspents()"
   ]
  },
  {
   "cell_type": "markdown",
   "id": "6c747ab9-a51b-4176-baec-0008c12e450d",
   "metadata": {},
   "source": [
    "## Transfer some funds to a new wallet"
   ]
  },
  {
   "cell_type": "code",
   "execution_count": 20,
   "id": "4947ca5c-c9de-4ac6-9dcd-f99e629470ce",
   "metadata": {},
   "outputs": [
    {
     "data": {
      "text/plain": [
       "{'path': \"m/44'/1'/0'/0/1\",\n",
       " 'address': 'mwWs9ZqQGxZMwUEfBkfGiSfEzZZymViPDE',\n",
       " 'public_key': '039061934f807d59ad47f95a46868d63a069adb9405e483238fa8a948ecd3de869',\n",
       " 'wif': 'cT5hfxYqsYiAySqpHgcNeukPtLU59W7ZBgxi66TquyKSeJf2gyeg',\n",
       " 'private_key': 'a41b1bd351047efd453c9404193961958e1d6528642d3594d11e1b4215f3f777'}"
      ]
     },
     "execution_count": 20,
     "metadata": {},
     "output_type": "execute_result"
    }
   ],
   "source": [
    "myWallets[1]"
   ]
  },
  {
   "cell_type": "code",
   "execution_count": 21,
   "id": "fd514952-769b-48c5-a250-9f3dce4a277c",
   "metadata": {},
   "outputs": [
    {
     "data": {
      "text/plain": [
       "'0'"
      ]
     },
     "execution_count": 21,
     "metadata": {},
     "output_type": "execute_result"
    }
   ],
   "source": [
    "key2 = wif_to_key(myWallets[1]['wif'])\n",
    "key2.get_balance()"
   ]
  },
  {
   "cell_type": "code",
   "execution_count": 25,
   "id": "47ab4e40-c7f5-45b7-8c71-b7106cb8cf14",
   "metadata": {},
   "outputs": [
    {
     "data": {
      "text/plain": [
       "[('mwWs9ZqQGxZMwUEfBkfGiSfEzZZymViPDE', 0.0001, 'btc')]"
      ]
     },
     "execution_count": 25,
     "metadata": {},
     "output_type": "execute_result"
    }
   ],
   "source": [
    "output = [(myWallets[1]['address'], 0.0001, \"btc\")]\n",
    "output"
   ]
  },
  {
   "cell_type": "code",
   "execution_count": 26,
   "id": "bb603487-fe89-418e-9154-77ba2c0be5ad",
   "metadata": {},
   "outputs": [
    {
     "data": {
      "text/plain": [
       "'276175ed6ea08dc48cf7f7ef902efa0806944e97e101de746804bcfc5764071b'"
      ]
     },
     "execution_count": 26,
     "metadata": {},
     "output_type": "execute_result"
    }
   ],
   "source": [
    "key.send(output)"
   ]
  },
  {
   "cell_type": "code",
   "execution_count": 27,
   "id": "517c50a6-51b9-42f7-b225-3328d9e141cd",
   "metadata": {},
   "outputs": [
    {
     "data": {
      "text/plain": [
       "['276175ed6ea08dc48cf7f7ef902efa0806944e97e101de746804bcfc5764071b',\n",
       " '56fbfab12d03e236b02ac61760724dce633b1464b71caa7b2404ba03668049b6',\n",
       " '73c6d763bab9345fd58c5cd47342a8a1f3d5ae50e2fbbdc0f5a94009463f4160',\n",
       " '9ae332e24d34da1b792fecd74e24826483b3cf3e0e60b3e05930c3c9670206f9',\n",
       " '86d3c82e244b6cdfc077580ed931b997168e8d62bb76fee96cca5d8a7209bf88',\n",
       " 'd501866a6e4d5144fd433f997c2cdd891003e735a4608d0a354aacdef44ac7be',\n",
       " 'd04f2445dec8beaedcfdabc09ee0b9f16ea3b1db593bc0de96ba973ecd30e1aa',\n",
       " '75242ff02704d8cb2d556d34b46bc5fb093d80c2c5899412eafab7faaafb7a6b',\n",
       " '499cac07d3fe41953006b9c3b382a6c835a580f4082f0576880aa76f86ad150f',\n",
       " '29020bbb992c9c8b718096569eba43b8b2fdd40ed581d40bcdb7921ff8ef0bf3']"
      ]
     },
     "execution_count": 27,
     "metadata": {},
     "output_type": "execute_result"
    }
   ],
   "source": [
    "key.get_transactions()"
   ]
  },
  {
   "cell_type": "code",
   "execution_count": 28,
   "id": "066e74d8-e5a8-433b-be62-f3faaf72ab72",
   "metadata": {},
   "outputs": [
    {
     "data": {
      "text/plain": [
       "'0.0001'"
      ]
     },
     "execution_count": 28,
     "metadata": {},
     "output_type": "execute_result"
    }
   ],
   "source": [
    "key2.get_balance('btc')"
   ]
  },
  {
   "cell_type": "code",
   "execution_count": 29,
   "id": "602e32e1-2a4a-4868-a79d-5cfd69f816a7",
   "metadata": {},
   "outputs": [
    {
     "data": {
      "text/plain": [
       "{'path': \"m/44'/1'/0'/0/1\",\n",
       " 'address': 'mwWs9ZqQGxZMwUEfBkfGiSfEzZZymViPDE',\n",
       " 'public_key': '039061934f807d59ad47f95a46868d63a069adb9405e483238fa8a948ecd3de869',\n",
       " 'wif': 'cT5hfxYqsYiAySqpHgcNeukPtLU59W7ZBgxi66TquyKSeJf2gyeg',\n",
       " 'private_key': 'a41b1bd351047efd453c9404193961958e1d6528642d3594d11e1b4215f3f777'}"
      ]
     },
     "execution_count": 29,
     "metadata": {},
     "output_type": "execute_result"
    }
   ],
   "source": [
    "myWallets[1]"
   ]
  },
  {
   "cell_type": "markdown",
   "id": "100bb252-75a6-4bcc-a86e-66822280dd0a",
   "metadata": {},
   "source": [
    "## Web3 Example"
   ]
  },
  {
   "cell_type": "code",
   "execution_count": 32,
   "id": "d11f00ee-06f1-4279-8791-0c6077944c5a",
   "metadata": {},
   "outputs": [],
   "source": [
    "from web3 import Web3"
   ]
  },
  {
   "cell_type": "code",
   "execution_count": null,
   "id": "333fa157-c1ef-4999-8a0a-caec3f913fd3",
   "metadata": {},
   "outputs": [],
   "source": [
    "Web3.HTTPProvider()"
   ]
  }
 ],
 "metadata": {
  "kernelspec": {
   "display_name": "Python [conda env:ethereum]",
   "language": "python",
   "name": "conda-env-ethereum-py"
  },
  "language_info": {
   "codemirror_mode": {
    "name": "ipython",
    "version": 3
   },
   "file_extension": ".py",
   "mimetype": "text/x-python",
   "name": "python",
   "nbconvert_exporter": "python",
   "pygments_lexer": "ipython3",
   "version": "3.7.10"
  }
 },
 "nbformat": 4,
 "nbformat_minor": 5
}
