{
 "cells": [
  {
   "cell_type": "code",
   "execution_count": 65,
   "id": "f8d4e873-a695-4633-a53e-16599ba1a114",
   "metadata": {},
   "outputs": [],
   "source": [
    "# Import dependencies\n",
    "import os\n",
    "from web3 import Web3\n",
    "from dotenv import load_dotenv\n",
    "from web3.middleware import geth_poa_middleware\n",
    "from eth_account import Account\n",
    "from bit import Key, PrivateKeyTestnet\n",
    "from bit.network import NetworkAPI\n",
    "# from bit import wif_to_key\n",
    "from constants import *\n",
    "from hdwallet import BIP44HDWallet\n",
    "from hdwallet.cryptocurrencies import BitcoinTestnet, EthereumMainnet\n",
    "from hdwallet.derivations import BIP44Derivation"
   ]
  },
  {
   "cell_type": "markdown",
   "id": "a897161f-7275-4c3a-9b1b-c40e8ee6ce04",
   "metadata": {},
   "source": [
    "**NOTE**\n",
    "Due to issues with installing PHP HD Wallet the instructor showed us a new library Python `hdwallet` which is what I am using here"
   ]
  },
  {
   "cell_type": "code",
   "execution_count": 2,
   "id": "1a9600d9-7e79-40e8-8f9a-8a5b99d5039e",
   "metadata": {},
   "outputs": [],
   "source": [
    "## COULD NOT INSTALL HD WALLET and we removed this portion of the lesson per instructor directions. Replaced with \n",
    "## Ganache, Mycrypto "
   ]
  },
  {
   "cell_type": "code",
   "execution_count": 13,
   "id": "40e0eeaf-a619-4ea1-b889-b11f6d6ba325",
   "metadata": {},
   "outputs": [
    {
     "data": {
      "text/plain": [
       "True"
      ]
     },
     "execution_count": 13,
     "metadata": {},
     "output_type": "execute_result"
    }
   ],
   "source": [
    "# Load and set environment variables test .env file\n",
    "load_dotenv(\".env\")"
   ]
  },
  {
   "cell_type": "code",
   "execution_count": 15,
   "id": "8fc02441-6fa5-4cfd-ad29-96698dc1230d",
   "metadata": {},
   "outputs": [],
   "source": [
    "# 3. Generate a Mnemonic for Ganache\n",
    "mnemonic = os.getenv(\"mnemonic\")\n",
    "# print(mnemonic)"
   ]
  },
  {
   "cell_type": "code",
   "execution_count": 16,
   "id": "cb9d0b86-90cb-4758-a407-b5d5d36d1319",
   "metadata": {},
   "outputs": [],
   "source": [
    "# Connect to Ganache\n",
    "w3 = Web3(Web3.HTTPProvider(\"http://127.0.0.1:8545\"))\n",
    "w3.middleware_onion.inject(geth_poa_middleware, layer=0)\n",
    "\n",
    "# 4. Derive the wallet keys\n",
    "private_key = os.getenv(\"PRIVATE_KEY\")\n",
    "\n",
    "# No POA for this HW."
   ]
  },
  {
   "cell_type": "code",
   "execution_count": 19,
   "id": "a54dfea4-6957-4263-8d7d-3a2368c71406",
   "metadata": {},
   "outputs": [],
   "source": [
    "# Test Private Key Output\n",
    "#private_key"
   ]
  },
  {
   "cell_type": "code",
   "execution_count": 56,
   "id": "b2a41a4b-c815-493a-80ce-6b498e76e44f",
   "metadata": {},
   "outputs": [],
   "source": [
    "def derive_wallet(coin=BitcoinTestnet, mnemonic=mnemonic, depth=3):\n",
    "    \n",
    "    bip44_wallet = BIP44HDWallet(cryptocurrency=coin)    \n",
    "    bip44_wallet.from_mnemonic(mnemonic=mnemonic, language='english', passphrase=None)\n",
    "    bip44_wallet.clean_derivation()\n",
    "    \n",
    "    mywallets = {}\n",
    "    for idx in range(depth):\n",
    "        bip_derivation = BIP44Derivation(cryptocurrency=coin, account=0, address=idx, change=False)\n",
    "        bip44_wallet.from_path(path=bip_derivation)\n",
    "        mywallets[idx] = {\n",
    "        'path': bip44_wallet.path(),\n",
    "        'address': bip44_wallet.address(),\n",
    "        'public_key': bip44_wallet.public_key(),\n",
    "        'wif': bip44_wallet.wif(),\n",
    "        'private_key': bip44_wallet.private_key()\n",
    "                        }\n",
    "        bip44_wallet.clean_derivation()\n",
    "    return mywallets"
   ]
  },
  {
   "cell_type": "code",
   "execution_count": 57,
   "id": "cdd8c2da-33f8-48d6-be71-d52575fb1e24",
   "metadata": {},
   "outputs": [],
   "source": [
    "ethereum_coins = derive_wallet(coin=EthereumMainnet)\n",
    "btctestnet = derive_wallet(coin=BitcoinTestnet)"
   ]
  },
  {
   "cell_type": "code",
   "execution_count": 58,
   "id": "344a31d5-7c45-4413-9d49-a24b892ca706",
   "metadata": {},
   "outputs": [
    {
     "data": {
      "text/plain": [
       "{0: {'path': \"m/44'/1'/0'/0/0\",\n",
       "  'address': 'mrEEBQAg9R1HeRXxHmzMzhbVRaVyoE8roz',\n",
       "  'public_key': '03868c02a805210ede3e4e87a61be0290dd55e5413e2db797753eaa24f0300a40b',\n",
       "  'wif': 'cQ1oZ1FLcpxiBkvsLGDAdptzqeREnP8WCfhfx3s4CM1o2diivk6A',\n",
       "  'private_key': '48968e244e43cdb9c5dd925b3212866ddc1652daab5457464ef835e85d643dbb'},\n",
       " 1: {'path': \"m/44'/1'/0'/0/1\",\n",
       "  'address': 'mjDeEnu2UAJmd8kjjUfxfnmJjSymgo7Y3P',\n",
       "  'public_key': '031c85b7fde3f54d49f1aa49d2dd56f03b89da399e165f0bab22f9fc8802008a8e',\n",
       "  'wif': 'cVzgtGLdQ17CCAW9Qq79KHYeAmjxe3uts8ggctpzcoE4neGxYJv9',\n",
       "  'private_key': 'fb09f5c0a32a62b272857d0bd340521a9f89074cdbd23523c6b737eec7dedea7'},\n",
       " 2: {'path': \"m/44'/1'/0'/0/2\",\n",
       "  'address': 'my4ZKfiabf1BeqAGFz7H4GgLaTo6hFwuCj',\n",
       "  'public_key': '0323a0e251779bc4a96c60aa67b43ad29a70f7dd21fdd39f129c28bc719ca81564',\n",
       "  'wif': 'cUgUbWkb96Y3K9b7Vgugy3AeYEJvfpKyWwmUcV2wtNsDX9qSwZFy',\n",
       "  'private_key': 'd3d5274926340d3af4e2a4b288e10156d115d93138f89bf12a7b00db2897dc52'}}"
      ]
     },
     "execution_count": 58,
     "metadata": {},
     "output_type": "execute_result"
    }
   ],
   "source": [
    "btctestnet"
   ]
  },
  {
   "cell_type": "code",
   "execution_count": 59,
   "id": "eea7d486-08cd-4eed-815c-c2a23c49f606",
   "metadata": {},
   "outputs": [
    {
     "data": {
      "text/plain": [
       "{0: {'path': \"m/44'/60'/0'/0/0\",\n",
       "  'address': '0x2e21d3b97e1d09Ef0cdea416d210c319146f9B58',\n",
       "  'public_key': '0259e2bea698785db3325058fad456536b0ee29b84b1f461d6d6435016d1346c79',\n",
       "  'wif': 'L28wzmqoT5NUiGkUA6NNakbTqfTjxbVpF3cYHYv6gAWPRcvjWea8',\n",
       "  'private_key': '92bcbff1656f38a3e52ee4d57a1b0735e3f73707e1c837b6fb5a3a53c04a6974'},\n",
       " 1: {'path': \"m/44'/60'/0'/0/1\",\n",
       "  'address': '0xB9B464Ae905cc62BB8951354fFbcB9Bc4DeBbeff',\n",
       "  'public_key': '039eb6f89701ba36e70106033aab027a45c0821a4fec95ac4b6b7ab35210e43979',\n",
       "  'wif': 'L4pBmuWAKDxLWS2fcCxFBNEt2ZUQiprgYLq4nULHEb6TndUFvGxC',\n",
       "  'private_key': 'e298edf3e05b97482e78d12307730dc3388515e848189ff8e1b9ea86eb122613'},\n",
       " 2: {'path': \"m/44'/60'/0'/0/2\",\n",
       "  'address': '0xd9c7E5655a25fA51D5445A4a7F8AD99C12B2D333',\n",
       "  'public_key': '03e2a6fb914a5f3e99ef98949a1426d70e3931c003b347bfe0a186a33c59e265a7',\n",
       "  'wif': 'Kxwf6DnsDkHnjYhK8xusffwDLkP2PWQjNZgWLgMfnrxtV4sjbxJj',\n",
       "  'private_key': '336a95b6ee1215b2853d7ea29318ec566f06d18b8a9969d0e29c547ae926ffab'}}"
      ]
     },
     "execution_count": 59,
     "metadata": {},
     "output_type": "execute_result"
    }
   ],
   "source": [
    "ethereum_coins"
   ]
  },
  {
   "cell_type": "code",
   "execution_count": 7,
   "id": "5a78e4f5-1b60-4489-bbb9-803964c71687",
   "metadata": {},
   "outputs": [],
   "source": [
    "# Private Key Create a dictionary object called coins replaced with account_one from Ganache \n",
    "account_one = Account.from_key(private_key)"
   ]
  },
  {
   "cell_type": "code",
   "execution_count": 8,
   "id": "8127c565-a2f9-4d05-8602-b6ddb4dba35d",
   "metadata": {},
   "outputs": [
    {
     "data": {
      "text/plain": [
       "<eth_account.signers.local.LocalAccount at 0x11892aa90>"
      ]
     },
     "execution_count": 8,
     "metadata": {},
     "output_type": "execute_result"
    }
   ],
   "source": [
    "# Test Output of Variable \n",
    "account_one"
   ]
  },
  {
   "cell_type": "code",
   "execution_count": 65,
   "id": "70ddb2a4-91ca-4937-8aa2-d77f968a4317",
   "metadata": {},
   "outputs": [],
   "source": [
    "# lag to enable unaudited HD Wallet features. only then we can get addresses from Mnemonic\n",
    "Account.enable_unaudited_hdwallet_features()"
   ]
  },
  {
   "cell_type": "code",
   "execution_count": 60,
   "id": "0d0717bd-3d73-49fb-873e-fbf863d5f435",
   "metadata": {},
   "outputs": [],
   "source": [
    "# Pull Addresses with mnemonic\n",
    "account_m1 = Account.from_mnemonic(mnemonic, account_path=\"m/44'/60'/0'/0/0\")"
   ]
  },
  {
   "cell_type": "code",
   "execution_count": 67,
   "id": "14905fe1-5953-415c-8c79-86045831d32c",
   "metadata": {},
   "outputs": [
    {
     "data": {
      "text/plain": [
       "'0x2e21d3b97e1d09Ef0cdea416d210c319146f9B58'"
      ]
     },
     "execution_count": 67,
     "metadata": {},
     "output_type": "execute_result"
    }
   ],
   "source": [
    "account_m1.address"
   ]
  },
  {
   "cell_type": "code",
   "execution_count": 68,
   "id": "f1451673-ada1-4c2d-9dac-41fcff59e31c",
   "metadata": {},
   "outputs": [],
   "source": [
    "account_m2 = Account.from_mnemonic(mnemonic, account_path=\"m/44'/60'/0'/0/1\")"
   ]
  },
  {
   "cell_type": "code",
   "execution_count": 69,
   "id": "fb1b4b78-04ad-4f1a-8fa7-958cfc254ea4",
   "metadata": {},
   "outputs": [
    {
     "data": {
      "text/plain": [
       "'0xB9B464Ae905cc62BB8951354fFbcB9Bc4DeBbeff'"
      ]
     },
     "execution_count": 69,
     "metadata": {},
     "output_type": "execute_result"
    }
   ],
   "source": [
    "account_m2.address"
   ]
  },
  {
   "cell_type": "code",
   "execution_count": 64,
   "id": "01706d5b-0bb1-4b5f-b723-312663076f4c",
   "metadata": {},
   "outputs": [],
   "source": [
    "# Create a dictionary object called account that uses the derive_wallets function to derive ETH and BTCTEST wallets.\n",
    "\n",
    "def create_raw_tx(coin, account, recipient, amount):\n",
    "    if coin == ETH:\n",
    "        value = w3.toWei(amount, \"ether\")\n",
    "        gasEstimate = w3.eth.estimateGas(\n",
    "            {\"from\": account.address, \"to\": recipient, \"value\": amount}\n",
    "        )\n",
    "        return {\n",
    "            \"from\": account.address,\n",
    "            \"to\": recipient,\n",
    "            \"value\": amount,\n",
    "            \"gasPrice\": w3.eth.gasPrice,\n",
    "            \"gas\": gasEstimate,\n",
    "            \"nonce\": w3.eth.getTransactionCount(account.address),\n",
    "            \"chainId\" : w3.eth.chain_id\n",
    "        }\n",
    "    if coin == BTCTEST:\n",
    "        return PrivateKeyTestnet.prepare_transaction(account.address, [(to, amount, BTC)])"
   ]
  },
  {
   "cell_type": "code",
   "execution_count": 67,
   "id": "f0da5e38-b537-4ca3-b430-73e6d712e6fb",
   "metadata": {},
   "outputs": [],
   "source": [
    "# 5. Linking the transaction signing libraries\n",
    "\n",
    "def send_tx(coin, account, recipient, amount):\n",
    "    if coin == ETH:\n",
    "        tx = create_raw_tx(coin, account.address, recipient, amount)\n",
    "        signed_tx = account.sign_transaction(tx)\n",
    "        return w3.eth.sendRawTransaction(signed_tx.rawTransaction)\n",
    "    if coin == BTCTEST:\n",
    "        tx = create_raw_tx(coin, account, recipient, amount)\n",
    "        signed = account.sign_transaction(tx)\n",
    "        return NetworkAPI.broadcast_tx_testnet(signed)"
   ]
  },
  {
   "cell_type": "code",
   "execution_count": 72,
   "id": "16f6915c-d56f-40d1-a0e3-0275258ba41d",
   "metadata": {},
   "outputs": [
    {
     "name": "stdout",
     "output_type": "stream",
     "text": [
      "0x821f1019140a4c73b36c3bb83ecac60d7545cbef79a0dc009bef4c405d53295b\n"
     ]
    }
   ],
   "source": [
    "# Test Transaction See Image Ganache_Wallet\n",
    "hex_result = send_tx(account_m2, account_m1.address, 5)"
   ]
  },
  {
   "cell_type": "code",
   "execution_count": null,
   "id": "5eac6695-4bd3-4ec7-854c-99b66136a1c0",
   "metadata": {},
   "outputs": [],
   "source": [
    "## COULD NOT generate Wif private Key for testnet wallets 6. Send some transactions!"
   ]
  },
  {
   "cell_type": "code",
   "execution_count": null,
   "id": "5b7f976d-6265-4f8b-bbf3-0f08b9f94cfd",
   "metadata": {},
   "outputs": [],
   "source": []
  },
  {
   "cell_type": "code",
   "execution_count": null,
   "id": "9ad58ea1-549b-4c29-abae-3422ba205216",
   "metadata": {},
   "outputs": [],
   "source": []
  },
  {
   "cell_type": "code",
   "execution_count": 45,
   "id": "9f9c9b76-2872-4c02-8f3d-5e46487a4f31",
   "metadata": {},
   "outputs": [
    {
     "data": {
      "text/plain": [
       "<PrivateKeyTestnet: n3wSv5HeQ3htyysoKuf1nQXnxRcxVeT5Qt>"
      ]
     },
     "execution_count": 45,
     "metadata": {},
     "output_type": "execute_result"
    }
   ],
   "source": []
  },
  {
   "cell_type": "code",
   "execution_count": 46,
   "id": "d7d0c4ac-1c59-4036-b44d-0886adf92a93",
   "metadata": {},
   "outputs": [],
   "source": []
  },
  {
   "cell_type": "code",
   "execution_count": 47,
   "id": "6345a818-e4da-47be-a6b3-0c1e832947f1",
   "metadata": {},
   "outputs": [
    {
     "data": {
      "text/plain": [
       "<PrivateKeyTestnet: msjBhgXeXbPU2XX1JU64s8LRPGUG5M9hMA>"
      ]
     },
     "execution_count": 47,
     "metadata": {},
     "output_type": "execute_result"
    }
   ],
   "source": []
  },
  {
   "cell_type": "code",
   "execution_count": 48,
   "id": "4f255dbb-4f77-4ee8-9202-c5762a476be8",
   "metadata": {},
   "outputs": [
    {
     "data": {
      "text/plain": [
       "'0.00015332'"
      ]
     },
     "execution_count": 48,
     "metadata": {},
     "output_type": "execute_result"
    }
   ],
   "source": [
    "key1.get_balance(\"btc\")"
   ]
  },
  {
   "cell_type": "code",
   "execution_count": 49,
   "id": "33c0e032-845e-4213-a109-9a640b923b2a",
   "metadata": {},
   "outputs": [
    {
     "data": {
      "text/plain": [
       "'0.0003'"
      ]
     },
     "execution_count": 49,
     "metadata": {},
     "output_type": "execute_result"
    }
   ],
   "source": [
    "key2.get_balance(\"btc\")"
   ]
  },
  {
   "cell_type": "code",
   "execution_count": null,
   "id": "01b28f3d-e3c6-4e74-8f47-58d4407c2772",
   "metadata": {},
   "outputs": [],
   "source": [
    "# outputs = []"
   ]
  },
  {
   "cell_type": "code",
   "execution_count": null,
   "id": "020b1933-98e5-40a5-be74-6d4ad99f337e",
   "metadata": {},
   "outputs": [],
   "source": [
    "# Chuck said to test using his key....it works...why does my key not work?\n",
    "# outputs.append((\"cQccrB9ftR5k62PWhGRroRKsJxC5yvhJ3nMkmmrYN7xcybADTnXB\", 0.0001, \"btc\"))"
   ]
  },
  {
   "cell_type": "code",
   "execution_count": null,
   "id": "e7b89f28-73af-4f6a-97a8-dbeb66c09e74",
   "metadata": {},
   "outputs": [],
   "source": [
    "# print(key1.send(outputs))"
   ]
  },
  {
   "cell_type": "code",
   "execution_count": 50,
   "id": "e1e0cd17-618c-46fd-b4b6-b511de070ad0",
   "metadata": {},
   "outputs": [
    {
     "ename": "InsufficientFunds",
     "evalue": "Balance 15332 is less than 46520 (including fee).",
     "output_type": "error",
     "traceback": [
      "\u001b[0;31m---------------------------------------------------------------------------\u001b[0m",
      "\u001b[0;31mInsufficientFunds\u001b[0m                         Traceback (most recent call last)",
      "\u001b[0;32m/var/folders/m3/m0j26zkj3ng93wqvc3qt0bx80000gn/T/ipykernel_28264/3209475400.py\u001b[0m in \u001b[0;36m<module>\u001b[0;34m\u001b[0m\n\u001b[1;32m     10\u001b[0m     \u001b[0moutputs\u001b[0m\u001b[0;34m.\u001b[0m\u001b[0mappend\u001b[0m\u001b[0;34m(\u001b[0m\u001b[0;34m(\u001b[0m\u001b[0maddress\u001b[0m\u001b[0;34m,\u001b[0m \u001b[0;36m0.0001\u001b[0m\u001b[0;34m,\u001b[0m \u001b[0;34m\"btc\"\u001b[0m\u001b[0;34m)\u001b[0m\u001b[0;34m)\u001b[0m\u001b[0;34m\u001b[0m\u001b[0;34m\u001b[0m\u001b[0m\n\u001b[1;32m     11\u001b[0m \u001b[0;34m\u001b[0m\u001b[0m\n\u001b[0;32m---> 12\u001b[0;31m \u001b[0mprint\u001b[0m\u001b[0;34m(\u001b[0m\u001b[0mkey\u001b[0m\u001b[0;34m.\u001b[0m\u001b[0msend\u001b[0m\u001b[0;34m(\u001b[0m\u001b[0moutputs\u001b[0m\u001b[0;34m)\u001b[0m\u001b[0;34m)\u001b[0m\u001b[0;34m\u001b[0m\u001b[0;34m\u001b[0m\u001b[0m\n\u001b[0m",
      "\u001b[0;32m/opt/homebrew/lib/python3.9/site-packages/bit/wallet.py\u001b[0m in \u001b[0;36msend\u001b[0;34m(self, outputs, fee, absolute_fee, leftover, combine, message, unspents, message_is_hex, replace_by_fee)\u001b[0m\n\u001b[1;32m    770\u001b[0m         \"\"\"\n\u001b[1;32m    771\u001b[0m \u001b[0;34m\u001b[0m\u001b[0m\n\u001b[0;32m--> 772\u001b[0;31m         tx_hex = self.create_transaction(\n\u001b[0m\u001b[1;32m    773\u001b[0m             \u001b[0moutputs\u001b[0m\u001b[0;34m,\u001b[0m\u001b[0;34m\u001b[0m\u001b[0;34m\u001b[0m\u001b[0m\n\u001b[1;32m    774\u001b[0m             \u001b[0mfee\u001b[0m\u001b[0;34m=\u001b[0m\u001b[0mfee\u001b[0m\u001b[0;34m,\u001b[0m\u001b[0;34m\u001b[0m\u001b[0;34m\u001b[0m\u001b[0m\n",
      "\u001b[0;32m/opt/homebrew/lib/python3.9/site-packages/bit/wallet.py\u001b[0m in \u001b[0;36mcreate_transaction\u001b[0;34m(self, outputs, fee, absolute_fee, leftover, combine, message, unspents, message_is_hex, replace_by_fee)\u001b[0m\n\u001b[1;32m    706\u001b[0m         \u001b[0mreturn_address\u001b[0m \u001b[0;34m=\u001b[0m \u001b[0mself\u001b[0m\u001b[0;34m.\u001b[0m\u001b[0msegwit_address\u001b[0m \u001b[0;32mif\u001b[0m \u001b[0many\u001b[0m\u001b[0;34m(\u001b[0m\u001b[0;34m[\u001b[0m\u001b[0mu\u001b[0m\u001b[0;34m.\u001b[0m\u001b[0msegwit\u001b[0m \u001b[0;32mfor\u001b[0m \u001b[0mu\u001b[0m \u001b[0;32min\u001b[0m \u001b[0munspents\u001b[0m\u001b[0;34m]\u001b[0m\u001b[0;34m)\u001b[0m \u001b[0;32melse\u001b[0m \u001b[0mself\u001b[0m\u001b[0;34m.\u001b[0m\u001b[0maddress\u001b[0m\u001b[0;34m\u001b[0m\u001b[0;34m\u001b[0m\u001b[0m\n\u001b[1;32m    707\u001b[0m \u001b[0;34m\u001b[0m\u001b[0m\n\u001b[0;32m--> 708\u001b[0;31m         unspents, outputs = sanitize_tx_data(\n\u001b[0m\u001b[1;32m    709\u001b[0m             \u001b[0munspents\u001b[0m\u001b[0;34m,\u001b[0m\u001b[0;34m\u001b[0m\u001b[0;34m\u001b[0m\u001b[0m\n\u001b[1;32m    710\u001b[0m             \u001b[0moutputs\u001b[0m\u001b[0;34m,\u001b[0m\u001b[0;34m\u001b[0m\u001b[0;34m\u001b[0m\u001b[0m\n",
      "\u001b[0;32m/opt/homebrew/lib/python3.9/site-packages/bit/transaction.py\u001b[0m in \u001b[0;36msanitize_tx_data\u001b[0;34m(unspents, outputs, fee, leftover, combine, message, compressed, absolute_fee, min_change, version, message_is_hex, replace_by_fee)\u001b[0m\n\u001b[1;32m    425\u001b[0m \u001b[0;34m\u001b[0m\u001b[0m\n\u001b[1;32m    426\u001b[0m     \u001b[0;31m# Use Branch-and-Bound for coin selection:\u001b[0m\u001b[0;34m\u001b[0m\u001b[0;34m\u001b[0m\u001b[0m\n\u001b[0;32m--> 427\u001b[0;31m     unspents[:], remaining = select_coins(\n\u001b[0m\u001b[1;32m    428\u001b[0m         \u001b[0msum_outputs\u001b[0m\u001b[0;34m,\u001b[0m\u001b[0;34m\u001b[0m\u001b[0;34m\u001b[0m\u001b[0m\n\u001b[1;32m    429\u001b[0m         \u001b[0mfee\u001b[0m\u001b[0;34m,\u001b[0m\u001b[0;34m\u001b[0m\u001b[0;34m\u001b[0m\u001b[0m\n",
      "\u001b[0;32m/opt/homebrew/lib/python3.9/site-packages/bit/transaction.py\u001b[0m in \u001b[0;36mselect_coins\u001b[0;34m(target, fee, output_size, min_change, absolute_fee, consolidate, unspents)\u001b[0m\n\u001b[1;32m    324\u001b[0m                 \u001b[0;32mbreak\u001b[0m\u001b[0;34m\u001b[0m\u001b[0;34m\u001b[0m\u001b[0m\n\u001b[1;32m    325\u001b[0m         \u001b[0;32melse\u001b[0m\u001b[0;34m:\u001b[0m\u001b[0;34m\u001b[0m\u001b[0;34m\u001b[0m\u001b[0m\n\u001b[0;32m--> 326\u001b[0;31m             raise InsufficientFunds(\n\u001b[0m\u001b[1;32m    327\u001b[0m                 \u001b[0;34m'Balance {} is less than {} (including '\u001b[0m\u001b[0;34m\u001b[0m\u001b[0;34m\u001b[0m\u001b[0m\n\u001b[1;32m    328\u001b[0m                 \u001b[0;34m'fee).'\u001b[0m\u001b[0;34m.\u001b[0m\u001b[0mformat\u001b[0m\u001b[0;34m(\u001b[0m\u001b[0msum\u001b[0m\u001b[0;34m(\u001b[0m\u001b[0mu\u001b[0m\u001b[0;34m.\u001b[0m\u001b[0mamount\u001b[0m \u001b[0;32mfor\u001b[0m \u001b[0mu\u001b[0m \u001b[0;32min\u001b[0m \u001b[0mselected_coins\u001b[0m\u001b[0;34m)\u001b[0m\u001b[0;34m,\u001b[0m \u001b[0mtarget\u001b[0m \u001b[0;34m+\u001b[0m \u001b[0mmin_change\u001b[0m \u001b[0;34m+\u001b[0m \u001b[0mestimated_fee\u001b[0m\u001b[0;34m)\u001b[0m\u001b[0;34m\u001b[0m\u001b[0;34m\u001b[0m\u001b[0m\n",
      "\u001b[0;31mInsufficientFunds\u001b[0m: Balance 15332 is less than 46520 (including fee)."
     ]
    }
   ],
   "source": [
    "# replace with your private key\n",
    "key = wif_to_key(\"cQGEtMyn7TTLGnReRSSXg9NTFsE8j6cWf8hnEU1PrZbtf5q54LHD\")\n",
    "\n",
    "# replace with different addresses\n",
    "addresses = [\"msjBhgXeXbPU2XX1JU64s8LRPGUG5M9hMA\", \"mkfWrXLBjPVKoBoVqVjihoEhSRXsu5JcAD\"]\n",
    "\n",
    "outputs = []\n",
    "\n",
    "for address in addresses:\n",
    "    outputs.append((address, 0.0001, \"btc\"))\n",
    "\n",
    "print(key.send(outputs))"
   ]
  },
  {
   "cell_type": "code",
   "execution_count": 56,
   "id": "e5ca05ea-08f8-4272-a4b2-b450ca010a16",
   "metadata": {},
   "outputs": [
    {
     "data": {
      "text/plain": [
       "'0.0003'"
      ]
     },
     "execution_count": 56,
     "metadata": {},
     "output_type": "execute_result"
    }
   ],
   "source": [
    "key2.get_balance(\"btc\")"
   ]
  },
  {
   "cell_type": "code",
   "execution_count": null,
   "id": "12078fdf-e1a4-47e9-9986-3ab7cb69906b",
   "metadata": {},
   "outputs": [],
   "source": []
  }
 ],
 "metadata": {
  "kernelspec": {
   "display_name": "neweth",
   "language": "python",
   "name": "neweth"
  },
  "language_info": {
   "codemirror_mode": {
    "name": "ipython",
    "version": 3
   },
   "file_extension": ".py",
   "mimetype": "text/x-python",
   "name": "python",
   "nbconvert_exporter": "python",
   "pygments_lexer": "ipython3",
   "version": "3.9.7"
  }
 },
 "nbformat": 4,
 "nbformat_minor": 5
}
